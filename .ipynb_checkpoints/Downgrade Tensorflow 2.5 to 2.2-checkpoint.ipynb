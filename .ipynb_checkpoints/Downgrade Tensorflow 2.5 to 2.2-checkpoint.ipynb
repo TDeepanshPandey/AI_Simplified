{
 "cells": [
  {
   "cell_type": "markdown",
   "id": "16826817",
   "metadata": {},
   "source": [
    "# How to downgrade Tensorflow 2.5 to 2.2 with Cuda 10 setup?"
   ]
  },
  {
   "cell_type": "markdown",
   "id": "125bd538",
   "metadata": {},
   "source": [
    "#####  Step 1 - Install wget it not installed"
   ]
  },
  {
   "cell_type": "markdown",
   "id": "0dbb3ff4",
   "metadata": {},
   "source": [
    "apt-get install wget"
   ]
  },
  {
   "cell_type": "markdown",
   "id": "152817e5",
   "metadata": {},
   "source": [
    "#### Step 2 - Install Miniconda  \n",
    "##### Download Miniconda/Anaconda from the website "
   ]
  },
  {
   "cell_type": "markdown",
   "id": "1a87cef8",
   "metadata": {},
   "source": [
    "bash Miniconda_file.sh #For linux"
   ]
  },
  {
   "cell_type": "markdown",
   "id": "71dcd089",
   "metadata": {},
   "source": [
    "#### Step 3 - Uninstall older version of tensorflow"
   ]
  },
  {
   "cell_type": "markdown",
   "id": "9207b520",
   "metadata": {},
   "source": [
    "pip uninstall -y tensorflow"
   ]
  },
  {
   "cell_type": "markdown",
   "id": "be617ee4",
   "metadata": {},
   "source": [
    "#### Step 4 - Install tensorflow 2.2"
   ]
  },
  {
   "cell_type": "markdown",
   "id": "ca406040",
   "metadata": {},
   "source": [
    "pip install tensorflow==2.2.0"
   ]
  },
  {
   "cell_type": "markdown",
   "id": "4c8e7d77",
   "metadata": {},
   "source": [
    "#### Step 5 - Install Cudatoolkit 10 from conda"
   ]
  },
  {
   "cell_type": "markdown",
   "id": "2fe82bc9",
   "metadata": {},
   "source": [
    "conda install -c anaconda cudatoolkit=10.1"
   ]
  },
  {
   "cell_type": "markdown",
   "id": "3972402a",
   "metadata": {},
   "source": [
    "#### Step 6 - Copy paste these commands to add Nvidia website to apt"
   ]
  },
  {
   "cell_type": "markdown",
   "id": "29807c23",
   "metadata": {},
   "source": [
    "apt update\n",
    "\n",
    "add-apt-repository ppa:graphics-drivers\n",
    "\n",
    "apt-key adv --fetch-keys  http://developer.download.nvidia.com/compute/cuda/repos/ubuntu1804/x86_64/7fa2af80.pub\n",
    "\n",
    "bash -c 'echo \"deb http://developer.download.nvidia.com/compute/cuda/repos/ubuntu1804/x86_64 /\" > /etc/apt/sources.list.d/cuda.list'\n",
    "\n",
    "bash -c 'echo \"deb http://developer.download.nvidia.com/compute/machine-learning/repos/ubuntu1804/x86_64 /\" > /etc/apt/sources.list.d/cuda_learn.list'"
   ]
  },
  {
   "cell_type": "markdown",
   "id": "d1cd1002",
   "metadata": {},
   "source": [
    "#### Step 7 - Install libcudnn7"
   ]
  },
  {
   "cell_type": "markdown",
   "id": "85316adb",
   "metadata": {},
   "source": [
    "apt install libcudnn7"
   ]
  },
  {
   "cell_type": "markdown",
   "id": "eedbe8b2",
   "metadata": {},
   "source": [
    "#### Step 8 - Check tensorflow is working"
   ]
  },
  {
   "cell_type": "markdown",
   "id": "68d0c10a",
   "metadata": {},
   "source": [
    "##### In python type following \n",
    "import tensorflow as tf\n",
    "tf.test.is_gpu_available()"
   ]
  },
  {
   "cell_type": "markdown",
   "id": "5a4dbf93",
   "metadata": {},
   "source": [
    "# Thank you :)"
   ]
  }
 ],
 "metadata": {
  "kernelspec": {
   "display_name": "Python 3",
   "language": "python",
   "name": "python3"
  },
  "language_info": {
   "codemirror_mode": {
    "name": "ipython",
    "version": 3
   },
   "file_extension": ".py",
   "mimetype": "text/x-python",
   "name": "python",
   "nbconvert_exporter": "python",
   "pygments_lexer": "ipython3",
   "version": "3.8.10"
  }
 },
 "nbformat": 4,
 "nbformat_minor": 5
}
